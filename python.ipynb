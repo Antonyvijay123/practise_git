{
  "nbformat": 4,
  "nbformat_minor": 0,
  "metadata": {
    "colab": {
      "provenance": [],
      "authorship_tag": "ABX9TyNv3kPQnLgM/8AkMtENdtlZ",
      "include_colab_link": true
    },
    "kernelspec": {
      "name": "python3",
      "display_name": "Python 3"
    },
    "language_info": {
      "name": "python"
    }
  },
  "cells": [
    {
      "cell_type": "markdown",
      "metadata": {
        "id": "view-in-github",
        "colab_type": "text"
      },
      "source": [
        "<a href=\"https://colab.research.google.com/github/Antonyvijay123/practise_git/blob/main/python.ipynb\" target=\"_parent\"><img src=\"https://colab.research.google.com/assets/colab-badge.svg\" alt=\"Open In Colab\"/></a>"
      ]
    },
    {
      "cell_type": "code",
      "execution_count": null,
      "metadata": {
        "colab": {
          "base_uri": "https://localhost:8080/"
        },
        "id": "SP4zYANQe1CJ",
        "outputId": "34b078a3-1d16-436f-984b-818ee8075a58"
      },
      "outputs": [
        {
          "output_type": "stream",
          "name": "stdout",
          "text": [
            "add\n",
            "16\n"
          ]
        }
      ],
      "source": [
        "print(\"add\")\n",
        "a=8\n",
        "b=8\n",
        "add=a+b\n",
        "print(add)"
      ]
    },
    {
      "cell_type": "code",
      "source": [
        "add=\"hello\"\n",
        "print(add)"
      ],
      "metadata": {
        "colab": {
          "base_uri": "https://localhost:8080/"
        },
        "id": "8DA7e8CQf7M9",
        "outputId": "db55165e-61b3-4d77-821c-be58a706e760"
      },
      "execution_count": null,
      "outputs": [
        {
          "output_type": "stream",
          "name": "stdout",
          "text": [
            "hello\n"
          ]
        }
      ]
    },
    {
      "cell_type": "code",
      "source": [
        "n=int(input(\"enter a num:\"))\n",
        "\n",
        "def fun(n):\n",
        "  if n==1 or 0:\n",
        "    return 1\n",
        "  else:\n",
        "    return n * fun(n-1)\n",
        "\n",
        "fun(n)\n",
        "\n"
      ],
      "metadata": {
        "colab": {
          "base_uri": "https://localhost:8080/"
        },
        "id": "Kd1uV8lLgNTD",
        "outputId": "ad96e705-07a2-49ee-df7a-45d659957a9a"
      },
      "execution_count": null,
      "outputs": [
        {
          "name": "stdout",
          "output_type": "stream",
          "text": [
            "enter a num:8\n"
          ]
        },
        {
          "output_type": "execute_result",
          "data": {
            "text/plain": [
              "40320"
            ]
          },
          "metadata": {},
          "execution_count": 6
        }
      ]
    },
    {
      "cell_type": "code",
      "source": [
        "n=int(input(\"Enter a num:\"))\n",
        "\n",
        "if n%2==0:\n",
        "    print(\"even\")\n",
        "\n",
        "else:\n",
        "  print(\"odd\")"
      ],
      "metadata": {
        "colab": {
          "base_uri": "https://localhost:8080/"
        },
        "id": "tY7PIVUqhDcH",
        "outputId": "1ff7ec2c-7efc-44ef-a865-9ee607d73b4b"
      },
      "execution_count": null,
      "outputs": [
        {
          "output_type": "stream",
          "name": "stdout",
          "text": [
            "Enter a num:65\n",
            "odd\n"
          ]
        }
      ]
    },
    {
      "cell_type": "code",
      "source": [
        "\n",
        "\n",
        "op=str(input(\"Enter the operation:\"))\n",
        "a=int(input(\"Enter a num:\"))\n",
        "b=int(input(\"Enter a num:\"))\n",
        "\n",
        "\n",
        "\n",
        "def add(a,b):\n",
        "    addition=a+b\n",
        "    print(\"add\")\n",
        "    return addition\n",
        "\n",
        "def sub(a,b):\n",
        "    return a-b\n",
        "\n",
        "def mul(a,b):\n",
        "    return a*b\n",
        "\n",
        "def div(a,b):\n",
        "    return a/b\n",
        "\n",
        "if op=='add':\n",
        "    print(add(a,b))\n",
        "elif op=='sub':\n",
        "    print(sub(a,b))\n",
        "elif op=='mul':\n",
        "    print(mul(a,b))\n",
        "\n",
        "elif op=='div':\n",
        "    print(div(a,b))\n"
      ],
      "metadata": {
        "colab": {
          "base_uri": "https://localhost:8080/"
        },
        "id": "BlKy3y_Qhdkw",
        "outputId": "70bb6b09-1011-4aee-dc32-83463653be18"
      },
      "execution_count": 19,
      "outputs": [
        {
          "output_type": "stream",
          "name": "stdout",
          "text": [
            "Enter the operation:div\n",
            "Enter a num:5\n",
            "Enter a num:2\n",
            "2.5\n"
          ]
        }
      ]
    },
    {
      "cell_type": "code",
      "source": [],
      "metadata": {
        "id": "mDW_Zxs_0PIx"
      },
      "execution_count": null,
      "outputs": []
    },
    {
      "cell_type": "code",
      "source": [
        "lists=[18,21,32,24,12]\n",
        "\n",
        "for age in lists:\n",
        "  print(age)"
      ],
      "metadata": {
        "colab": {
          "base_uri": "https://localhost:8080/"
        },
        "id": "6zcX5q3IJ7Sy",
        "outputId": "5afd15b1-bfef-4fd7-bcf9-5959e3bd8774"
      },
      "execution_count": 4,
      "outputs": [
        {
          "output_type": "stream",
          "name": "stdout",
          "text": [
            "18\n",
            "21\n",
            "32\n",
            "24\n",
            "11\n"
          ]
        }
      ]
    },
    {
      "cell_type": "code",
      "source": [
        "for age in lists:\n",
        "    if age < 12 :\n",
        "      print(\"child\")\n",
        "    elif age < 18:\n",
        "      print(\"junior\")\n",
        "    elif age > 18:\n",
        "      print(\"senior\")\n",
        "    else:\n",
        "      print(\"adult\")"
      ],
      "metadata": {
        "colab": {
          "base_uri": "https://localhost:8080/"
        },
        "id": "SHzQvQ3tKCkt",
        "outputId": "7ec52438-70a3-44a3-be63-f89f23d53ac6"
      },
      "execution_count": 6,
      "outputs": [
        {
          "output_type": "stream",
          "name": "stdout",
          "text": [
            "adult\n",
            "senior\n",
            "senior\n",
            "senior\n",
            "child\n"
          ]
        }
      ]
    },
    {
      "cell_type": "code",
      "source": [
        "for i in range(0,11,5):\n",
        "    print(i)"
      ],
      "metadata": {
        "colab": {
          "base_uri": "https://localhost:8080/"
        },
        "id": "_gltYDAHLd3F",
        "outputId": "ab014f19-2ac4-447f-de7b-6faaada4da39"
      },
      "execution_count": 10,
      "outputs": [
        {
          "output_type": "stream",
          "name": "stdout",
          "text": [
            "0\n",
            "5\n",
            "10\n"
          ]
        }
      ]
    },
    {
      "cell_type": "code",
      "source": [
        "age=int(input(\"Enter your age:\"))\n",
        "\n",
        "\n",
        "def category(age):\n",
        "    if age < 18:\n",
        "        cate=\"child\"\n",
        "\n",
        "    elif age < 30:\n",
        "        cate=\"senior\"\n",
        "\n",
        "    else:\n",
        "        cate=\"adult\"\n",
        "\n",
        "    return cate\n",
        "\n",
        "\n",
        "discount=category(age)\n",
        "print(discount)\n",
        "\n"
      ],
      "metadata": {
        "colab": {
          "base_uri": "https://localhost:8080/"
        },
        "id": "Lr4ffxATPuS6",
        "outputId": "9cdc2873-f765-47c4-91cc-b888562c3259"
      },
      "execution_count": 27,
      "outputs": [
        {
          "output_type": "stream",
          "name": "stdout",
          "text": [
            "Enter your age:5\n",
            "child\n"
          ]
        }
      ]
    },
    {
      "cell_type": "code",
      "source": [
        "def oddEven(num):\n",
        "  if (num%2==0):\n",
        "      cate=\"even\"\n",
        "  else:\n",
        "      cate=\"odd\"\n",
        "  return cate\n",
        "\n",
        "oddEven(2)\n"
      ],
      "metadata": {
        "colab": {
          "base_uri": "https://localhost:8080/",
          "height": 35
        },
        "id": "dYyDqmq2pkZ3",
        "outputId": "0d4e068e-4e4b-40e4-99ce-23452f55ac4d"
      },
      "execution_count": 32,
      "outputs": [
        {
          "output_type": "execute_result",
          "data": {
            "text/plain": [
              "'even'"
            ],
            "application/vnd.google.colaboratory.intrinsic+json": {
              "type": "string"
            }
          },
          "metadata": {},
          "execution_count": 32
        }
      ]
    },
    {
      "cell_type": "code",
      "source": [],
      "metadata": {
        "id": "BxfpxgNeuoTr"
      },
      "execution_count": null,
      "outputs": []
    },
    {
      "cell_type": "markdown",
      "source": [
        "BMI"
      ],
      "metadata": {
        "id": "4Rm5Kf92wvT5"
      }
    },
    {
      "cell_type": "code",
      "source": [
        "def weight():\n",
        "\n",
        "  bmi=int(input(\"Enter your bmi :\"))\n",
        "  if bmi<18.5:\n",
        "    message=\"underweight\"\n",
        "  elif bmi<24.9:\n",
        "    message=\"normal\"\n",
        "  elif bmi<29.9:\n",
        "    message=\"overweight\"\n",
        "  else:\n",
        "    message=\"very overweight\"\n",
        "  return message\n",
        "\n",
        "\n",
        "\n",
        "cate=weight()\n",
        "print(cate)\n"
      ],
      "metadata": {
        "colab": {
          "base_uri": "https://localhost:8080/"
        },
        "id": "eA47bFsswwpa",
        "outputId": "b8b98c06-daec-4b94-e957-f46590959c73"
      },
      "execution_count": 46,
      "outputs": [
        {
          "output_type": "stream",
          "name": "stdout",
          "text": [
            "Enter your bmi :2\n",
            "underweight\n"
          ]
        }
      ]
    },
    {
      "cell_type": "code",
      "source": [],
      "metadata": {
        "id": "Tc9MRc7_xYWR"
      },
      "execution_count": null,
      "outputs": []
    }
  ]
}